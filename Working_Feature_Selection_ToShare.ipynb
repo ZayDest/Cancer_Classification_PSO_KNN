{
  "cells": [
    {
      "cell_type": "markdown",
      "metadata": {
        "id": "view-in-github",
        "colab_type": "text"
      },
      "source": [
        "<a href=\"https://colab.research.google.com/github/ZayDest/Cancer_Classification_PSO_KNN/blob/main/Working_Feature_Selection_ToShare.ipynb\" target=\"_parent\"><img src=\"https://colab.research.google.com/assets/colab-badge.svg\" alt=\"Open In Colab\"/></a>"
      ]
    },
    {
      "cell_type": "code",
      "execution_count": 1,
      "metadata": {
        "id": "ItkY5Yd7cNwk"
      },
      "outputs": [],
      "source": [
        "import numpy as np\n",
        "from numpy.random import rand\n",
        "\n",
        "\n",
        "import numpy as np\n",
        "from sklearn.neighbors import KNeighborsClassifier\n",
        "\n",
        "import math"
      ]
    },
    {
      "cell_type": "code",
      "execution_count": 2,
      "metadata": {
        "id": "muzhHNWIcNwo"
      },
      "outputs": [],
      "source": [
        "import numpy as np\n",
        "import pandas as pd\n",
        "from sklearn.neighbors import KNeighborsClassifier\n",
        "from sklearn.model_selection import train_test_split\n",
        "import matplotlib.pyplot as plt"
      ]
    },
    {
      "cell_type": "markdown",
      "metadata": {
        "id": "jGsfApm-cNwp"
      },
      "source": [
        "# Initialize positions"
      ]
    },
    {
      "cell_type": "code",
      "execution_count": 3,
      "metadata": {
        "id": "AP9Q15eFcNwr"
      },
      "outputs": [],
      "source": [
        "def init_position(lb, ub, N, dim):\n",
        "    X = np.zeros([N, dim], dtype='float')\n",
        "    for i in range(N):\n",
        "        for d in range(dim):\n",
        "            X[i,d] = lb[0,d] + (ub[0,d] - lb[0,d]) * rand()        \n",
        "    \n",
        "    return X"
      ]
    },
    {
      "cell_type": "markdown",
      "metadata": {
        "id": "LTVw2u7XcNws"
      },
      "source": [
        "# Initialize Velocity"
      ]
    },
    {
      "cell_type": "code",
      "execution_count": 4,
      "metadata": {
        "id": "OKo-aE_scNws"
      },
      "outputs": [],
      "source": [
        "def init_velocity(lb, ub, N, dim):\n",
        "    V    = np.zeros([N, dim], dtype='float')\n",
        "    Vmax = np.zeros([1, dim], dtype='float')\n",
        "    Vmin = np.zeros([1, dim], dtype='float')\n",
        "    # Maximum & minimum velocity\n",
        "    for d in range(dim):\n",
        "        Vmax[0,d] = (ub[0,d] - lb[0,d]) / 2\n",
        "        Vmin[0,d] = -Vmax[0,d]\n",
        "        \n",
        "    for i in range(N):\n",
        "        for d in range(dim):\n",
        "            V[i,d] = Vmin[0,d] + (Vmax[0,d] - Vmin[0,d]) * rand()\n",
        "        \n",
        "    return V, Vmax, Vmin"
      ]
    },
    {
      "cell_type": "markdown",
      "metadata": {
        "id": "MLAFFH3QcNwu"
      },
      "source": [
        "# Binary Conversion"
      ]
    },
    {
      "cell_type": "code",
      "execution_count": 5,
      "metadata": {
        "id": "IzPTYygBcNwv"
      },
      "outputs": [],
      "source": [
        "def binary_conversion(X, thres, N, dim):\n",
        "    Xbin = np.zeros([N, dim], dtype='int')\n",
        "    for i in range(N):\n",
        "        for d in range(dim):\n",
        "            if X[i,d] > thres:\n",
        "                Xbin[i,d] = 1\n",
        "            else:\n",
        "                Xbin[i,d] = 0\n",
        "    \n",
        "    return Xbin"
      ]
    },
    {
      "cell_type": "markdown",
      "metadata": {
        "id": "3qBcLJnqcNww"
      },
      "source": [
        "# Boundary"
      ]
    },
    {
      "cell_type": "code",
      "execution_count": 6,
      "metadata": {
        "id": "dfRCOhYbcNwx"
      },
      "outputs": [],
      "source": [
        "def boundary(x, lb, ub):\n",
        "    if x < lb:\n",
        "        x = lb\n",
        "    if x > ub:\n",
        "        x = ub\n",
        "    \n",
        "    return x"
      ]
    },
    {
      "cell_type": "markdown",
      "metadata": {
        "id": "EddTKcRicNwx"
      },
      "source": [
        "# Calculate Error Rate"
      ]
    },
    {
      "cell_type": "code",
      "execution_count": 7,
      "metadata": {
        "id": "CTTW17gLcNwy"
      },
      "outputs": [],
      "source": [
        "# error rate\n",
        "def error_rate(xtrain, ytrain, x, opts):\n",
        "    # parameters\n",
        "    k     = opts['k']\n",
        "    fold  = opts['fold']\n",
        "    xt    = fold['xt']\n",
        "    yt    = fold['yt']\n",
        "    xv    = fold['xv']\n",
        "    yv    = fold['yv']\n",
        "    \n",
        "    # Number of instances\n",
        "    num_train = np.size(xt, 0)\n",
        "    num_valid = np.size(xv, 0)\n",
        "    # Define selected features\n",
        "    xtrain  = xt[:, x == 1]\n",
        "    ytrain  = yt.reshape(num_train)  # Solve bug\n",
        "    xvalid  = xv[:, x == 1]\n",
        "    yvalid  = yv.reshape(num_valid)  # Solve bug   \n",
        "    # Training\n",
        "    mdl     = KNeighborsClassifier(n_neighbors = k)\n",
        "    mdl.fit(xtrain, ytrain)\n",
        "    # Prediction\n",
        "    ypred   = mdl.predict(xvalid)\n",
        "    acc     = np.sum(yvalid == ypred) / num_valid\n",
        "    error   = 1 - acc\n",
        "    \n",
        "    return error"
      ]
    },
    {
      "cell_type": "markdown",
      "metadata": {
        "id": "-RlMMzYpcNwy"
      },
      "source": [
        "# Model with selected features"
      ]
    },
    {
      "cell_type": "code",
      "execution_count": 8,
      "metadata": {
        "id": "YsTcveaZcNwz"
      },
      "outputs": [],
      "source": [
        "def model_selected_feature(xtrain,xtest,ytrain, ytest,k,fmdl,sf,fs_method):  \n",
        "    # model with selected features\n",
        "    num_train = np.size(xtrain, 0)\n",
        "    num_valid = np.size(xtest, 0)\n",
        "    x_train   = xtrain[:, sf]\n",
        "    y_train   = ytrain.reshape(num_train)  # Solve bug\n",
        "    x_valid   = xtest[:, sf]\n",
        "    y_valid   = ytest.reshape(num_valid)  # Solve bug\n",
        "\n",
        "    mdl       = KNeighborsClassifier(n_neighbors = k) \n",
        "    print(\"Training Accuracy: \\n\")\n",
        "    mdl.fit(x_train, y_train)\n",
        "    # Calculate the accuracy of the training model\n",
        "    train_res = mdl.score(x_train, y_train)\n",
        "    print(\"Training Accuracy: \", train_res)\n",
        "    # Predict on dataset which model has not seen before\n",
        "    \n",
        "    mdl.predict(x_valid)\n",
        "    # Calculate the accuracy of the model\n",
        "    test_res = mdl.score(x_valid, y_valid)\n",
        "    print(\"Testing Accuracy: \\n\", test_res)\n",
        "    \n",
        "    accuracy_convergence(mdl,x_valid,y_valid,num_valid,fmdl,fs_method,opts)\n",
        "    #print(sum(train_res-test_res))"
      ]
    },
    {
      "cell_type": "markdown",
      "metadata": {
        "id": "FCKPEqEwcNwz"
      },
      "source": [
        "# Calculate accuracy and plot convergence"
      ]
    },
    {
      "cell_type": "code",
      "execution_count": 9,
      "metadata": {
        "id": "jZ6YlQK0cNwz"
      },
      "outputs": [],
      "source": [
        "def accuracy_convergence(mdl,x_valid,y_valid,num_valid,fmdl,fs_method,opts):\n",
        "    # accuracy\n",
        "    y_pred    = mdl.predict(x_valid)\n",
        "    Acc       = np.sum(y_valid == y_pred)  / num_valid\n",
        "    print(\"Accuracy:\", 100 * Acc)\n",
        "\n",
        "    # number of selected features\n",
        "    num_feat = fmdl['nf']\n",
        "    print(\"Feature Size:\", num_feat)\n",
        "\n",
        "    # plot convergence\n",
        "    curve   = fmdl['c']\n",
        "    curve   = curve.reshape(np.size(curve,1))\n",
        "    x       = np.arange(0, opts['T'], 1.0) + 1.0\n",
        "\n",
        "    fig, ax = plt.subplots()\n",
        "    ax.plot(x, curve, 'o-')\n",
        "    ax.set_xlabel('Number of Iterations')\n",
        "    ax.set_ylabel('Fitness')\n",
        "    ax.set_title(fs_method)\n",
        "    ax.grid()\n",
        "    plt.show()"
      ]
    },
    {
      "cell_type": "markdown",
      "metadata": {
        "id": "MvDNpFihcNw0"
      },
      "source": [
        "# PSO Feature Selection"
      ]
    },
    {
      "cell_type": "code",
      "execution_count": 10,
      "metadata": {
        "id": "E47liIEPcNw0"
      },
      "outputs": [],
      "source": [
        "def pso_fs(xtrain, ytrain, opts):\n",
        "    # Parameters\n",
        "    ub    = 1\n",
        "    lb    = 0\n",
        "    thres = 0.5\n",
        "    w     = 0.9    # inertia weight\n",
        "    c1    = 2      # acceleration factor\n",
        "    c2    = 2      # acceleration factor\n",
        "    \n",
        "    N        = opts['N']\n",
        "    max_iter = opts['T']\n",
        "    if 'w' in opts:\n",
        "        w    = opts['w']\n",
        "    if 'c1' in opts:\n",
        "        c1   = opts['c1']\n",
        "    if 'c2' in opts:\n",
        "        c2   = opts['c2'] \n",
        "    \n",
        "    # Dimension\n",
        "    dim = np.size(xtrain, 1)\n",
        "    if np.size(lb) == 1:\n",
        "        ub = ub * np.ones([1, dim], dtype='float')\n",
        "        lb = lb * np.ones([1, dim], dtype='float')\n",
        "        \n",
        "    # Initialize position & velocity\n",
        "    X             = init_position(lb, ub, N, dim)\n",
        "    V, Vmax, Vmin = init_velocity(lb, ub, N, dim) \n",
        "    \n",
        "    # Pre\n",
        "    fit   = np.zeros([N, 1], dtype='float')\n",
        "    Xgb   = np.zeros([1, dim], dtype='float')\n",
        "    fitG  = float('inf')\n",
        "    Xpb   = np.zeros([N, dim], dtype='float')\n",
        "    fitP  = float('inf') * np.ones([N, 1], dtype='float')\n",
        "    curve = np.zeros([1, max_iter], dtype='float') \n",
        "    t     = 0\n",
        "    \n",
        "    while t < max_iter:\n",
        "        # Binary conversion\n",
        "        Xbin = binary_conversion(X, thres, N, dim)\n",
        "        \n",
        "        # Fitness\n",
        "        for i in range(N):\n",
        "            fit[i,0] = error_rate(xtrain, ytrain, Xbin[i,:], opts)\n",
        "            if fit[i,0] < fitP[i,0]:\n",
        "                Xpb[i,:]  = X[i,:]\n",
        "                fitP[i,0] = fit[i,0]\n",
        "            if fitP[i,0] < fitG:\n",
        "                Xgb[0,:]  = Xpb[i,:]\n",
        "                fitG      = fitP[i,0]\n",
        "        \n",
        "        # Store result\n",
        "        curve[0,t] = fitG.copy()\n",
        "        print(\"Iteration:\", t + 1)\n",
        "        print(\"Best (PSO):\", curve[0,t])\n",
        "        t += 1\n",
        "        \n",
        "        for i in range(N):\n",
        "            for d in range(dim):\n",
        "                # Update velocity\n",
        "                r1     = rand()\n",
        "                r2     = rand()\n",
        "                V[i,d] = w * V[i,d] + c1 * r1 * (Xpb[i,d] - X[i,d]) + c2 * r2 * (Xgb[0,d] - X[i,d]) \n",
        "                # Boundary\n",
        "                V[i,d] = boundary(V[i,d], Vmin[0,d], Vmax[0,d])\n",
        "                # Update position\n",
        "                X[i,d] = X[i,d] + V[i,d]\n",
        "                # Boundary\n",
        "                X[i,d] = boundary(X[i,d], lb[0,d], ub[0,d])\n",
        "    \n",
        "                \n",
        "    # Best feature subset\n",
        "    Gbin       = binary_conversion(Xgb, thres, 1, dim) \n",
        "    Gbin       = Gbin.reshape(dim)\n",
        "    pos        = np.asarray(range(0, dim))    \n",
        "    sel_index  = pos[Gbin == 1]\n",
        "    num_feat   = len(sel_index)\n",
        "    # Create dictionary\n",
        "    pso_data = {'sf': sel_index, 'c': curve, 'nf': num_feat}\n",
        "    \n",
        "    return pso_data "
      ]
    },
    {
      "cell_type": "markdown",
      "metadata": {
        "id": "NaNjmnAdcNw1"
      },
      "source": [
        "# PSO"
      ]
    },
    {
      "cell_type": "code",
      "execution_count": 11,
      "metadata": {
        "id": "-X0OS-8zcNw1"
      },
      "outputs": [],
      "source": [
        "def pso_fs_model(opts):\n",
        "    fs_method='PSO KICH'\n",
        "\n",
        "    # perform feature selection\n",
        "    fmdl = pso_fs(feat, label, opts)\n",
        "    sf   = fmdl['sf']\n",
        "    print('\\nSelected features are : ',sf)\n",
        "\n",
        "    model_selected_feature(xtrain,xtest,ytrain, ytest,k, fmdl, sf,fs_method)"
      ]
    },
    {
      "cell_type": "markdown",
      "metadata": {
        "id": "ZQQ7RV5WcNw1"
      },
      "source": [
        "# Data Preparation"
      ]
    },
    {
      "cell_type": "code",
      "execution_count": 12,
      "metadata": {
        "id": "_6BFZORScNw1"
      },
      "outputs": [],
      "source": [
        "rna_exp = pd.read_csv('data.csv', index_col=[0])\n",
        "labels = pd.read_csv('labels_2.csv', index_col=[0])"
      ]
    },
    {
      "cell_type": "code",
      "execution_count": 13,
      "metadata": {
        "id": "EVDjhyodcNw2"
      },
      "outputs": [],
      "source": [
        "feat=rna_exp\n",
        "label = labels\n",
        "type(feat)\n",
        "feat.head()\n",
        "feat=np.array(feat).reshape(-1,20531)\n",
        "label=np.array(labels).reshape(-1,1)"
      ]
    },
    {
      "cell_type": "code",
      "execution_count": 14,
      "metadata": {
        "colab": {
          "base_uri": "https://localhost:8080/"
        },
        "id": "yV-PYLSPcNw2",
        "outputId": "74f8abc6-8e53-4648-eb44-8c9a93fcf6b1"
      },
      "outputs": [
        {
          "output_type": "stream",
          "name": "stdout",
          "text": [
            "(801, 1)\n",
            "(801, 20531)\n"
          ]
        },
        {
          "output_type": "execute_result",
          "data": {
            "text/plain": [
              "array([[ 0.        ,  2.01720929,  3.26552691, ...,  8.92132623,\n",
              "         5.28675919,  0.        ],\n",
              "       [ 0.        ,  0.59273209,  1.58842082, ...,  9.39785429,\n",
              "         2.09416849,  0.        ],\n",
              "       [ 0.        ,  3.51175898,  4.32719872, ..., 10.09046974,\n",
              "         1.68302267,  0.        ],\n",
              "       ...,\n",
              "       [ 0.        ,  3.24958187,  3.70749166, ...,  9.46671072,\n",
              "         4.6774575 ,  0.5866927 ],\n",
              "       [ 0.        ,  2.59033853,  2.78797567, ..., 10.40058062,\n",
              "         5.71875068,  0.        ],\n",
              "       [ 0.        ,  2.32524248,  3.80593214, ...,  9.84479363,\n",
              "         4.55071601,  0.        ]])"
            ]
          },
          "metadata": {},
          "execution_count": 14
        }
      ],
      "source": [
        "print(label.shape)\n",
        "print(feat.shape)\n",
        "feat"
      ]
    },
    {
      "cell_type": "code",
      "execution_count": 15,
      "metadata": {
        "id": "0gHafhmbcNw3"
      },
      "outputs": [],
      "source": [
        "# split data into train & validation (70 -- 30)\n",
        "xtrain, xtest, ytrain, ytest = train_test_split(feat, label, test_size=0.3)\n",
        "fold = {'xt':xtrain, 'yt':ytrain, 'xv':xtest, 'yv':ytest}"
      ]
    },
    {
      "cell_type": "code",
      "execution_count": 16,
      "metadata": {
        "id": "MVpvWEoFcNw3"
      },
      "outputs": [],
      "source": [
        "def model_selected_feature(xtrain,xtest,ytrain, ytest,k,fmdl,sf,fs_method):  \n",
        "    # model with selected features\n",
        "    num_train = np.size(xtrain, 0)\n",
        "    num_valid = np.size(xtest, 0)\n",
        "    x_train   = xtrain[:, sf]\n",
        "    y_train   = ytrain.reshape(num_train)  # Solve bug\n",
        "    x_valid   = xtest[:, sf]\n",
        "    y_valid   = ytest.reshape(num_valid)  # Solve bug\n",
        "\n",
        "    #Model Fitting\n",
        "    mdl       = KNeighborsClassifier(n_neighbors = k) \n",
        "    mdl.fit(x_train, y_train)\n",
        "    \n",
        "    # Predict on dataset which model has not seen before\n",
        "    y_pred = mdl.predict(x_valid)\n",
        "    print(\"target predicted:\", y_pred)\n",
        "    \n",
        "    # Calculate the accuracy of the training model\n",
        "    train_res = mdl.score(x_train, y_train)\n",
        "    print(\"Training Accuracy: \", train_res)\n",
        "   \n",
        "    # Calculate the accuracy of the model\n",
        "    test_res = mdl.score(x_valid, y_valid)\n",
        "    print(\"Testing Accuracy score: \\n\", test_res)\n",
        "    \n",
        "    ###### FOR LOOP ###########\n",
        "    neighbors = np.arange(1, len(x_train))\n",
        "    train_accuracy = np.empty(len(neighbors))\n",
        "    test_accuracy = np.empty(len(neighbors))\n",
        "    trn = np.empty(len(neighbors))\n",
        "    tst = np.empty(len(neighbors))\n",
        "    \n",
        "    \n",
        "    for i, k in enumerate(neighbors):\n",
        "        knn = KNeighborsClassifier(n_neighbors=k)\n",
        "        knn.fit(x_train, y_train)\n",
        "        \n",
        "        # Compute training and test data accuracy\n",
        "        train_accuracy[i] = knn.score(x_train, y_train)\n",
        "        #trn = trn.append(train_accuracy[i])\n",
        "        trn[i] = train_accuracy[i]\n",
        "        test_accuracy[i] = knn.score(x_valid, y_valid)\n",
        "        tst[i] = test_accuracy[i]\n",
        " \n",
        "    print(\"\\n train score:\", trn)\n",
        "    print('\\n test score', tst)\n",
        "    \n",
        "    # Generate plot\n",
        "    plt.plot(neighbors, test_accuracy, label = 'Testing dataset Accuracy')\n",
        "    plt.plot(neighbors, train_accuracy, label = 'Training dataset Accuracy')\n",
        "\n",
        "    plt.legend()\n",
        "    plt.xlabel('n_neighbors')\n",
        "    plt.ylabel('Accuracy')\n",
        "    plt.show()\n",
        "    \n",
        "    accuracy_convergence(mdl,x_valid,y_valid,num_valid,fmdl,fs_method,opts)\n",
        "    #print(sum(train_res-test_res))"
      ]
    },
    {
      "cell_type": "code",
      "execution_count": 17,
      "metadata": {
        "scrolled": true,
        "colab": {
          "base_uri": "https://localhost:8080/",
          "height": 1000
        },
        "id": "NSD9RuQJcNw3",
        "outputId": "db10b412-53fa-45ac-c06d-c50326492527"
      },
      "outputs": [
        {
          "output_type": "stream",
          "name": "stdout",
          "text": [
            "Iteration: 1\n",
            "Best (PSO): 0.008298755186721962\n",
            "Iteration: 2\n",
            "Best (PSO): 0.004149377593360981\n",
            "Iteration: 3\n",
            "Best (PSO): 0.004149377593360981\n",
            "Iteration: 4\n",
            "Best (PSO): 0.004149377593360981\n",
            "Iteration: 5\n",
            "Best (PSO): 0.004149377593360981\n",
            "Iteration: 6\n",
            "Best (PSO): 0.004149377593360981\n",
            "Iteration: 7\n",
            "Best (PSO): 0.004149377593360981\n",
            "Iteration: 8\n",
            "Best (PSO): 0.004149377593360981\n",
            "Iteration: 9\n",
            "Best (PSO): 0.004149377593360981\n",
            "Iteration: 10\n",
            "Best (PSO): 0.004149377593360981\n",
            "\n",
            "Selected features are :  [    1     2     5 ... 20517 20523 20526]\n",
            "target predicted: [5 4 4 4 2 1 3 1 1 4 3 3 3 2 3 3 2 3 1 4 5 1 3 3 2 4 1 2 3 2 1 2 5 5 3 5 1\n",
            " 3 4 1 4 3 4 2 3 3 1 3 4 4 1 3 4 4 2 1 5 3 3 1 5 3 3 2 3 4 3 3 4 4 3 3 3 2\n",
            " 1 3 1 2 3 3 4 3 3 1 4 3 1 5 3 3 3 4 3 3 4 5 3 2 3 3 4 3 3 5 2 4 2 3 5 3 1\n",
            " 1 4 3 2 2 2 4 2 1 5 3 5 3 3 2 2 1 2 3 5 2 1 1 3 3 4 1 2 4 3 2 5 3 4 2 3 3\n",
            " 3 1 3 4 4 3 3 4 2 4 2 4 2 4 3 2 3 4 3 4 4 4 1 2 3 3 3 3 4 4 4 3 5 3 4 1 1\n",
            " 1 3 2 5 1 2 3 2 5 5 3 1 5 3 3 4 3 3 3 1 5 4 2 2 3 4 4 3 5 4 3 4 3 3 4 2 5\n",
            " 3 2 1 2 3 3 3 3 1 3 3 5 4 3 2 5 3 3 4]\n",
            "Training Accuracy:  1.0\n",
            "Testing Accuracy score: \n",
            " 0.995850622406639\n",
            "\n",
            " train score: [1.         1.         1.         1.         1.         1.\n",
            " 0.99821429 0.99821429 0.99821429 0.99821429 0.99821429 0.99821429\n",
            " 0.99821429 0.99821429 0.99821429 0.99821429 0.99821429 0.99821429\n",
            " 0.99821429 0.99821429 0.99821429 0.99821429 0.99642857 0.99642857\n",
            " 0.99642857 0.99642857 0.99642857 0.99642857 0.99642857 0.99642857\n",
            " 0.99642857 0.99642857 0.99642857 0.99642857 0.99642857 0.99642857\n",
            " 0.99642857 0.99642857 0.99642857 0.99642857 0.99642857 0.99642857\n",
            " 0.99642857 0.99642857 0.99642857 0.99642857 0.99642857 0.99642857\n",
            " 0.99642857 0.99642857 0.99642857 0.99642857 0.99642857 0.99642857\n",
            " 0.99642857 0.99642857 0.99642857 0.99642857 0.99642857 0.99642857\n",
            " 0.99642857 0.99642857 0.99642857 0.99464286 0.99464286 0.99464286\n",
            " 0.99642857 0.99642857 0.99642857 0.99464286 0.99464286 0.99464286\n",
            " 0.99464286 0.99464286 0.99464286 0.99285714 0.99464286 0.99285714\n",
            " 0.99285714 0.99285714 0.99285714 0.99285714 0.99285714 0.99285714\n",
            " 0.99285714 0.99285714 0.99285714 0.99285714 0.99285714 0.99107143\n",
            " 0.99107143 0.99107143 0.99107143 0.99107143 0.99107143 0.99107143\n",
            " 0.99107143 0.99107143 0.99107143 0.98928571 0.98928571 0.98928571\n",
            " 0.98928571 0.98928571 0.9875     0.98571429 0.98571429 0.98214286\n",
            " 0.98214286 0.98214286 0.98214286 0.98214286 0.98214286 0.98214286\n",
            " 0.98214286 0.98214286 0.98035714 0.98035714 0.98035714 0.97678571\n",
            " 0.975      0.975      0.975      0.97321429 0.97142857 0.96785714\n",
            " 0.96785714 0.96785714 0.96785714 0.96607143 0.96607143 0.96428571\n",
            " 0.96071429 0.96071429 0.95892857 0.95535714 0.95535714 0.95178571\n",
            " 0.95       0.95       0.94821429 0.94821429 0.94642857 0.94642857\n",
            " 0.94642857 0.94464286 0.94285714 0.94285714 0.94107143 0.94107143\n",
            " 0.93928571 0.93928571 0.93571429 0.92857143 0.92678571 0.92678571\n",
            " 0.92678571 0.91964286 0.91964286 0.91785714 0.9125     0.9125\n",
            " 0.9125     0.9125     0.91071429 0.91071429 0.91071429 0.90892857\n",
            " 0.90892857 0.90892857 0.90714286 0.90714286 0.90535714 0.90357143\n",
            " 0.90357143 0.90178571 0.90178571 0.90178571 0.9        0.89821429\n",
            " 0.89642857 0.89642857 0.89464286 0.89285714 0.89285714 0.89285714\n",
            " 0.89285714 0.89107143 0.88928571 0.88928571 0.88928571 0.8875\n",
            " 0.88928571 0.88571429 0.88214286 0.88035714 0.87321429 0.87321429\n",
            " 0.86964286 0.86785714 0.85714286 0.85892857 0.85714286 0.85\n",
            " 0.84285714 0.82142857 0.80535714 0.79821429 0.78035714 0.76785714\n",
            " 0.76071429 0.75714286 0.74642857 0.74464286 0.73214286 0.73035714\n",
            " 0.72678571 0.72142857 0.71428571 0.70357143 0.69107143 0.68035714\n",
            " 0.67857143 0.675      0.66785714 0.65535714 0.65       0.64821429\n",
            " 0.63928571 0.6375     0.63392857 0.63035714 0.62678571 0.62142857\n",
            " 0.61607143 0.61071429 0.60892857 0.60357143 0.6        0.59821429\n",
            " 0.59642857 0.59821429 0.59285714 0.58928571 0.58392857 0.58214286\n",
            " 0.58035714 0.57678571 0.57678571 0.57321429 0.57321429 0.56964286\n",
            " 0.56607143 0.5625     0.55535714 0.55357143 0.55       0.54642857\n",
            " 0.54285714 0.53928571 0.53571429 0.53392857 0.53035714 0.52857143\n",
            " 0.525      0.52321429 0.51607143 0.51428571 0.50892857 0.50892857\n",
            " 0.50357143 0.5        0.49285714 0.49285714 0.4875     0.48392857\n",
            " 0.47321429 0.46607143 0.46428571 0.46071429 0.45892857 0.45357143\n",
            " 0.45178571 0.44821429 0.44642857 0.43571429 0.43392857 0.43035714\n",
            " 0.425      0.42321429 0.41607143 0.4125     0.41071429 0.40714286\n",
            " 0.40535714 0.40178571 0.40178571 0.4        0.4        0.39821429\n",
            " 0.39821429 0.39464286 0.3875     0.38571429 0.38392857 0.38392857\n",
            " 0.38392857 0.38392857 0.38214286 0.38214286 0.38214286 0.38214286\n",
            " 0.38035714 0.38035714 0.37857143 0.37857143 0.37857143 0.37857143\n",
            " 0.37857143 0.37857143 0.37857143 0.37678571 0.37678571 0.37678571\n",
            " 0.37678571 0.37678571 0.37678571 0.37678571 0.37678571 0.375\n",
            " 0.375      0.375      0.375      0.375      0.375      0.375\n",
            " 0.375      0.375      0.375      0.375      0.375      0.375\n",
            " 0.375      0.375      0.375      0.375      0.375      0.375\n",
            " 0.375      0.375      0.375      0.375      0.375      0.375\n",
            " 0.375      0.375      0.375      0.375      0.375      0.375\n",
            " 0.375      0.375      0.37321429 0.37321429 0.37321429 0.37321429\n",
            " 0.37321429 0.37321429 0.37321429 0.37321429 0.37321429 0.37321429\n",
            " 0.37321429 0.37321429 0.37321429 0.37321429 0.37321429 0.37321429\n",
            " 0.37321429 0.37321429 0.37321429 0.37321429 0.37321429 0.37321429\n",
            " 0.37321429 0.37321429 0.37321429 0.37321429 0.37321429 0.37321429\n",
            " 0.37321429 0.37321429 0.37321429 0.37321429 0.37321429 0.37321429\n",
            " 0.37321429 0.37321429 0.37321429 0.37321429 0.37321429 0.37321429\n",
            " 0.37321429 0.37321429 0.37321429 0.37321429 0.37321429 0.37321429\n",
            " 0.37321429 0.37321429 0.37321429 0.37321429 0.37321429 0.37321429\n",
            " 0.37321429 0.37321429 0.37321429 0.37321429 0.37321429 0.37321429\n",
            " 0.37321429 0.37321429 0.37321429 0.37321429 0.37321429 0.37321429\n",
            " 0.37321429 0.37321429 0.37321429 0.37321429 0.37321429 0.37321429\n",
            " 0.37321429 0.37321429 0.37321429 0.37321429 0.37321429 0.37321429\n",
            " 0.37321429 0.37321429 0.37321429 0.37321429 0.37321429 0.37321429\n",
            " 0.37321429 0.37321429 0.37321429 0.37321429 0.37321429 0.37321429\n",
            " 0.37321429 0.37321429 0.37321429 0.37321429 0.37321429 0.37321429\n",
            " 0.37321429 0.37321429 0.37321429 0.37321429 0.37321429 0.37321429\n",
            " 0.37321429 0.37321429 0.37321429 0.37321429 0.37321429 0.37321429\n",
            " 0.37321429 0.37321429 0.37321429 0.37321429 0.37321429 0.37321429\n",
            " 0.37321429 0.37321429 0.37321429 0.37321429 0.37321429 0.37321429\n",
            " 0.37321429 0.37321429 0.37321429 0.37321429 0.37321429 0.37321429\n",
            " 0.37321429 0.37321429 0.37321429 0.37321429 0.37321429 0.37321429\n",
            " 0.37321429 0.37321429 0.37321429 0.37321429 0.37321429 0.37321429\n",
            " 0.37321429 0.37321429 0.37321429 0.37321429 0.37321429 0.37321429\n",
            " 0.37321429 0.37321429 0.37321429 0.37321429 0.37321429 0.37321429\n",
            " 0.37321429 0.37321429 0.37321429 0.37321429 0.37321429 0.37321429\n",
            " 0.37321429 0.37321429 0.37321429 0.37321429 0.37321429 0.37321429\n",
            " 0.37321429 0.37321429 0.37321429 0.37321429 0.37321429 0.37321429\n",
            " 0.37321429 0.37321429 0.37321429 0.37321429 0.37321429 0.37321429\n",
            " 0.37321429 0.37321429 0.37321429 0.37321429 0.37321429 0.37321429\n",
            " 0.37321429 0.37321429 0.37321429 0.37321429 0.37321429 0.37321429\n",
            " 0.37321429 0.37321429 0.37321429 0.37321429 0.37321429 0.37321429\n",
            " 0.37321429 0.37321429 0.37321429 0.37321429 0.37321429 0.37321429\n",
            " 0.37321429]\n",
            "\n",
            " test score [0.99585062 0.99585062 0.99585062 0.99585062 0.99585062 0.99585062\n",
            " 0.99585062 0.99585062 0.99585062 0.99585062 0.99585062 0.99585062\n",
            " 0.99585062 0.99585062 0.99585062 0.99585062 0.99585062 0.99585062\n",
            " 0.99585062 0.99585062 0.99585062 0.99585062 0.99585062 0.99585062\n",
            " 0.99585062 0.99585062 0.99585062 0.99585062 0.99585062 0.99585062\n",
            " 0.99585062 0.99585062 0.99585062 0.99585062 0.99585062 0.99585062\n",
            " 0.99585062 0.99585062 0.99585062 0.99585062 0.99585062 0.99585062\n",
            " 0.99170124 0.99170124 0.99170124 0.99170124 0.99170124 0.99170124\n",
            " 0.99170124 0.99170124 0.99170124 0.99170124 0.99170124 0.99170124\n",
            " 0.99170124 0.99170124 0.99170124 0.99170124 0.99170124 0.99170124\n",
            " 0.99170124 0.99170124 0.99170124 0.99170124 0.99170124 0.99170124\n",
            " 0.99170124 0.99170124 0.99170124 0.99170124 0.99170124 0.99170124\n",
            " 0.99170124 0.99170124 0.99170124 0.99170124 0.99170124 0.99170124\n",
            " 0.99170124 0.99170124 0.99170124 0.99170124 0.99170124 0.99170124\n",
            " 0.99170124 0.99170124 0.99170124 0.99170124 0.99170124 0.99170124\n",
            " 0.99170124 0.99170124 0.99170124 0.99170124 0.99170124 0.99170124\n",
            " 0.99170124 0.99170124 0.99170124 0.99170124 0.99170124 0.99170124\n",
            " 0.99170124 0.99170124 0.99170124 0.99170124 0.99170124 0.98755187\n",
            " 0.98755187 0.98755187 0.98755187 0.98340249 0.97925311 0.97510373\n",
            " 0.97510373 0.97510373 0.97095436 0.96680498 0.96680498 0.96680498\n",
            " 0.96680498 0.9626556  0.95850622 0.95435685 0.95435685 0.95435685\n",
            " 0.94605809 0.94605809 0.94190871 0.94190871 0.94190871 0.94190871\n",
            " 0.94190871 0.93775934 0.93775934 0.93775934 0.93775934 0.93775934\n",
            " 0.93775934 0.93775934 0.93775934 0.93775934 0.93775934 0.92946058\n",
            " 0.9253112  0.9253112  0.9253112  0.92116183 0.92116183 0.92116183\n",
            " 0.92116183 0.92116183 0.91701245 0.91701245 0.91286307 0.90871369\n",
            " 0.90456432 0.89626556 0.89626556 0.89626556 0.89626556 0.89626556\n",
            " 0.89626556 0.89626556 0.89626556 0.89626556 0.89626556 0.89626556\n",
            " 0.89626556 0.89626556 0.89211618 0.89211618 0.89211618 0.89211618\n",
            " 0.89211618 0.89211618 0.89211618 0.89211618 0.8879668  0.8879668\n",
            " 0.8879668  0.8879668  0.8879668  0.88381743 0.88381743 0.88381743\n",
            " 0.88381743 0.88381743 0.87966805 0.87966805 0.87966805 0.87551867\n",
            " 0.87551867 0.87551867 0.86721992 0.86721992 0.86721992 0.86721992\n",
            " 0.86721992 0.86307054 0.85892116 0.85892116 0.84647303 0.84647303\n",
            " 0.83817427 0.82157676 0.80497925 0.7966805  0.79253112 0.78008299\n",
            " 0.77593361 0.77178423 0.77178423 0.76763485 0.7593361  0.74273859\n",
            " 0.73858921 0.72614108 0.71784232 0.70539419 0.70954357 0.70954357\n",
            " 0.70124481 0.70124481 0.69294606 0.68879668 0.6846473  0.67219917\n",
            " 0.66804979 0.66804979 0.65975104 0.65560166 0.6473029  0.63900415\n",
            " 0.63485477 0.63485477 0.63485477 0.63070539 0.63070539 0.62655602\n",
            " 0.62655602 0.62655602 0.62655602 0.62655602 0.62655602 0.62655602\n",
            " 0.61825726 0.60165975 0.59751037 0.59751037 0.59751037 0.59751037\n",
            " 0.59751037 0.593361   0.593361   0.58921162 0.58506224 0.58506224\n",
            " 0.58506224 0.58506224 0.58091286 0.58091286 0.57676349 0.56846473\n",
            " 0.56431535 0.56431535 0.56431535 0.56016598 0.5560166  0.5560166\n",
            " 0.54771784 0.54771784 0.54356846 0.53941909 0.53112033 0.52697095\n",
            " 0.52697095 0.5186722  0.51452282 0.51037344 0.49792531 0.4813278\n",
            " 0.47302905 0.45643154 0.45643154 0.45643154 0.44813278 0.4439834\n",
            " 0.43983402 0.43983402 0.43153527 0.42738589 0.41908714 0.41908714\n",
            " 0.41908714 0.41078838 0.406639   0.406639   0.39834025 0.39834025\n",
            " 0.39834025 0.39419087 0.39419087 0.39419087 0.39419087 0.39419087\n",
            " 0.39419087 0.39419087 0.39004149 0.39004149 0.39004149 0.39004149\n",
            " 0.39004149 0.38589212 0.38589212 0.38589212 0.38589212 0.38589212\n",
            " 0.38589212 0.38589212 0.38589212 0.38174274 0.38174274 0.38174274\n",
            " 0.38174274 0.38174274 0.38174274 0.38174274 0.38174274 0.38174274\n",
            " 0.37759336 0.37759336 0.37759336 0.37759336 0.37759336 0.37759336\n",
            " 0.37759336 0.37759336 0.37759336 0.37759336 0.37759336 0.37759336\n",
            " 0.37759336 0.37759336 0.37759336 0.37759336 0.37759336 0.37759336\n",
            " 0.37759336 0.37759336 0.37759336 0.37759336 0.37759336 0.37759336\n",
            " 0.37759336 0.37759336 0.37759336 0.37759336 0.37759336 0.37759336\n",
            " 0.37759336 0.37759336 0.37759336 0.37759336 0.37759336 0.37759336\n",
            " 0.37759336 0.37759336 0.37759336 0.37759336 0.37759336 0.37759336\n",
            " 0.37759336 0.37759336 0.37759336 0.37759336 0.37759336 0.37759336\n",
            " 0.37759336 0.37759336 0.37759336 0.37759336 0.37759336 0.37759336\n",
            " 0.37759336 0.37759336 0.37759336 0.37759336 0.37759336 0.37759336\n",
            " 0.37759336 0.37759336 0.37759336 0.37759336 0.37759336 0.37759336\n",
            " 0.37759336 0.37759336 0.37759336 0.37759336 0.37759336 0.37759336\n",
            " 0.37759336 0.37759336 0.37759336 0.37759336 0.37759336 0.37759336\n",
            " 0.37759336 0.37759336 0.37759336 0.37759336 0.37759336 0.37759336\n",
            " 0.37759336 0.37759336 0.37759336 0.37759336 0.37759336 0.37759336\n",
            " 0.37759336 0.37759336 0.37759336 0.37759336 0.37759336 0.37759336\n",
            " 0.37759336 0.37759336 0.37759336 0.37759336 0.37759336 0.37759336\n",
            " 0.37759336 0.37759336 0.37759336 0.37759336 0.37759336 0.37759336\n",
            " 0.37759336 0.37759336 0.37759336 0.37759336 0.37759336 0.37759336\n",
            " 0.37759336 0.37759336 0.37759336 0.37759336 0.37759336 0.37759336\n",
            " 0.37759336 0.37759336 0.37759336 0.37759336 0.37759336 0.37759336\n",
            " 0.37759336 0.37759336 0.37759336 0.37759336 0.37759336 0.37759336\n",
            " 0.37759336 0.37759336 0.37759336 0.37759336 0.37759336 0.37759336\n",
            " 0.37759336 0.37759336 0.37759336 0.37759336 0.37759336 0.37759336\n",
            " 0.37759336 0.37759336 0.37759336 0.37759336 0.37759336 0.37759336\n",
            " 0.37759336 0.37759336 0.37759336 0.37759336 0.37759336 0.37759336\n",
            " 0.37759336 0.37759336 0.37759336 0.37759336 0.37759336 0.37759336\n",
            " 0.37759336 0.37759336 0.37759336 0.37759336 0.37759336 0.37759336\n",
            " 0.37759336 0.37759336 0.37759336 0.37759336 0.37759336 0.37759336\n",
            " 0.37759336 0.37759336 0.37759336 0.37759336 0.37759336 0.37759336\n",
            " 0.37759336 0.37759336 0.37759336 0.37759336 0.37759336 0.37759336\n",
            " 0.37759336 0.37759336 0.37759336 0.37759336 0.37759336 0.37759336\n",
            " 0.37759336 0.37759336 0.37759336 0.37759336 0.37759336 0.37759336\n",
            " 0.37759336 0.37759336 0.37759336 0.37759336 0.37759336 0.37759336\n",
            " 0.37759336 0.37759336 0.37759336 0.37759336 0.37759336 0.37759336\n",
            " 0.37759336 0.37759336 0.37759336 0.37759336 0.37759336 0.37759336\n",
            " 0.37759336 0.37759336 0.37759336 0.37759336 0.37759336 0.37759336\n",
            " 0.37759336 0.37759336 0.37759336 0.37759336 0.37759336 0.37759336\n",
            " 0.37759336]\n"
          ]
        },
        {
          "output_type": "display_data",
          "data": {
            "text/plain": [
              "<Figure size 432x288 with 1 Axes>"
            ],
            "image/png": "[encoded data removed]"
          },
          "metadata": {
            "needs_background": "light"
          }
        },
        {
          "output_type": "stream",
          "name": "stdout",
          "text": [
            "Accuracy: 99.5850622406639\n",
            "Feature Size: 10338\n"
          ]
        },
        {
          "output_type": "display_data",
          "data": {
            "text/plain": [
              "<Figure size 432x288 with 1 Axes>"
            ],
            "image/png": "[encoded data removed]"
          },
          "metadata": {
            "needs_background": "light"
          }
        }
      ],
      "source": [
        "k    = 5     # k-value in KNN\n",
        "N    = 10    # number of particles\n",
        "T    = 10    # maximum number of iterations\n",
        "w    = 0.9\n",
        "c1   = 2\n",
        "c2   = 2\n",
        "opts = {'k':k, 'fold':fold, 'N':N, 'T':T, 'w':w, 'c1':c1, 'c2':c2}\n",
        "pso_fs_model(opts)"
      ]
    },
    {
      "cell_type": "code",
      "execution_count": 18,
      "metadata": {
        "colab": {
          "base_uri": "https://localhost:8080/",
          "height": 1000
        },
        "id": "fEaOdoedcNw4",
        "outputId": "1b57281f-7d61-4537-dd3b-8479247aca2d"
      },
      "outputs": [
        {
          "output_type": "stream",
          "name": "stdout",
          "text": [
            "Iteration: 1\n",
            "Best (PSO): 0.008298755186721962\n",
            "Iteration: 2\n",
            "Best (PSO): 0.008298755186721962\n",
            "Iteration: 3\n",
            "Best (PSO): 0.008298755186721962\n",
            "Iteration: 4\n",
            "Best (PSO): 0.008298755186721962\n",
            "Iteration: 5\n",
            "Best (PSO): 0.008298755186721962\n",
            "Iteration: 6\n",
            "Best (PSO): 0.008298755186721962\n",
            "Iteration: 7\n",
            "Best (PSO): 0.008298755186721962\n",
            "Iteration: 8\n",
            "Best (PSO): 0.008298755186721962\n",
            "Iteration: 9\n",
            "Best (PSO): 0.008298755186721962\n",
            "Iteration: 10\n",
            "Best (PSO): 0.008298755186721962\n",
            "\n",
            "Selected features are :  [    2     3     9 ... 20525 20529 20530]\n",
            "target predicted: [5 4 4 4 2 1 3 1 1 4 3 3 3 2 3 3 2 3 1 4 5 1 3 3 2 4 1 2 3 2 1 2 5 5 3 5 1\n",
            " 3 4 1 4 3 4 2 3 3 1 3 4 4 1 3 4 4 2 1 5 3 3 1 5 3 3 2 3 4 3 3 4 4 3 3 3 2\n",
            " 1 3 1 2 3 3 4 3 3 1 4 3 1 5 3 3 3 4 3 3 4 5 3 2 3 3 4 3 3 5 2 4 2 3 5 3 1\n",
            " 1 4 3 2 2 2 4 2 1 5 3 5 3 3 2 2 1 2 3 5 2 1 1 3 3 4 1 2 4 3 2 5 3 4 2 3 3\n",
            " 3 1 3 4 4 3 3 4 2 4 2 4 2 4 3 2 3 4 3 4 4 4 1 2 3 3 3 3 4 4 4 3 5 3 4 1 1\n",
            " 1 3 2 5 1 2 3 2 5 5 3 1 5 3 3 4 3 3 3 1 5 4 2 2 3 4 4 3 5 4 3 4 3 3 4 2 5\n",
            " 3 2 1 3 3 3 3 3 1 3 3 5 4 3 2 5 3 3 4]\n",
            "Training Accuracy:  1.0\n",
            "Testing Accuracy score: \n",
            " 0.991701244813278\n",
            "\n",
            " train score: [1.         1.         1.         1.         1.         1.\n",
            " 1.         0.99821429 0.99821429 1.         0.99821429 0.99821429\n",
            " 1.         0.99821429 0.99821429 1.         0.99821429 0.99821429\n",
            " 0.99821429 0.99821429 0.99821429 0.99642857 0.99642857 0.99642857\n",
            " 0.99642857 0.99642857 0.99642857 0.99642857 0.99642857 0.99642857\n",
            " 0.99642857 0.99642857 0.99642857 0.99642857 0.99642857 0.99642857\n",
            " 0.99642857 0.99642857 0.99642857 0.99642857 0.99642857 0.99642857\n",
            " 0.99642857 0.99642857 0.99464286 0.99464286 0.99464286 0.99464286\n",
            " 0.99464286 0.99464286 0.99464286 0.99464286 0.99464286 0.99464286\n",
            " 0.99464286 0.99464286 0.99464286 0.99464286 0.99464286 0.99464286\n",
            " 0.99464286 0.99464286 0.99464286 0.99464286 0.99285714 0.99285714\n",
            " 0.99285714 0.99285714 0.99285714 0.99285714 0.99285714 0.99285714\n",
            " 0.99107143 0.99285714 0.99285714 0.99107143 0.99107143 0.99107143\n",
            " 0.99107143 0.98928571 0.98928571 0.98928571 0.98928571 0.98928571\n",
            " 0.98928571 0.98928571 0.98928571 0.98928571 0.98928571 0.98928571\n",
            " 0.98928571 0.98928571 0.98928571 0.98928571 0.98928571 0.98928571\n",
            " 0.98928571 0.98928571 0.98928571 0.98928571 0.98928571 0.98928571\n",
            " 0.98928571 0.98928571 0.98928571 0.98928571 0.98928571 0.9875\n",
            " 0.9875     0.98571429 0.98392857 0.98392857 0.98214286 0.98214286\n",
            " 0.98214286 0.98214286 0.98214286 0.98035714 0.97857143 0.97857143\n",
            " 0.97857143 0.97857143 0.97678571 0.97678571 0.97678571 0.975\n",
            " 0.975      0.97321429 0.97142857 0.97142857 0.96964286 0.96785714\n",
            " 0.96785714 0.96785714 0.96785714 0.96785714 0.96785714 0.96428571\n",
            " 0.9625     0.9625     0.96071429 0.96071429 0.96071429 0.96071429\n",
            " 0.95714286 0.95535714 0.95535714 0.95178571 0.94821429 0.94821429\n",
            " 0.94464286 0.94107143 0.93571429 0.93392857 0.93392857 0.93035714\n",
            " 0.93035714 0.92678571 0.925      0.91785714 0.9125     0.90892857\n",
            " 0.90714286 0.90535714 0.90357143 0.90178571 0.90178571 0.90357143\n",
            " 0.9        0.89821429 0.89642857 0.89464286 0.89464286 0.88928571\n",
            " 0.8875     0.8875     0.88928571 0.8875     0.8875     0.88571429\n",
            " 0.88571429 0.88392857 0.87857143 0.87678571 0.87321429 0.86785714\n",
            " 0.86785714 0.86607143 0.8625     0.86071429 0.85892857 0.86071429\n",
            " 0.85714286 0.85178571 0.84642857 0.84285714 0.8375     0.8375\n",
            " 0.82857143 0.83035714 0.82142857 0.8125     0.80535714 0.79107143\n",
            " 0.77678571 0.75714286 0.74464286 0.73214286 0.71785714 0.71428571\n",
            " 0.71071429 0.70357143 0.69285714 0.68035714 0.66428571 0.65535714\n",
            " 0.64464286 0.63928571 0.63214286 0.63035714 0.62142857 0.61607143\n",
            " 0.6125     0.60535714 0.60178571 0.59642857 0.59285714 0.58928571\n",
            " 0.58392857 0.57857143 0.575      0.575      0.57321429 0.56785714\n",
            " 0.55892857 0.55357143 0.55       0.54821429 0.54285714 0.54285714\n",
            " 0.54107143 0.5375     0.53571429 0.52857143 0.52857143 0.51964286\n",
            " 0.51785714 0.50714286 0.50357143 0.49464286 0.49107143 0.48571429\n",
            " 0.48035714 0.47857143 0.47321429 0.46964286 0.46607143 0.46607143\n",
            " 0.46071429 0.45535714 0.45178571 0.44821429 0.44464286 0.44285714\n",
            " 0.43928571 0.43571429 0.42321429 0.42142857 0.41964286 0.41428571\n",
            " 0.41071429 0.40714286 0.40535714 0.4        0.4        0.4\n",
            " 0.39642857 0.39464286 0.39464286 0.39107143 0.39107143 0.3875\n",
            " 0.3875     0.38392857 0.38214286 0.38035714 0.38035714 0.37857143\n",
            " 0.37857143 0.37857143 0.37857143 0.37857143 0.37857143 0.37857143\n",
            " 0.37857143 0.37678571 0.37678571 0.37678571 0.375      0.375\n",
            " 0.375      0.375      0.375      0.375      0.375      0.375\n",
            " 0.375      0.375      0.375      0.375      0.375      0.375\n",
            " 0.375      0.375      0.375      0.375      0.375      0.375\n",
            " 0.375      0.375      0.375      0.375      0.375      0.375\n",
            " 0.375      0.375      0.375      0.375      0.375      0.375\n",
            " 0.375      0.375      0.375      0.375      0.375      0.375\n",
            " 0.375      0.375      0.375      0.375      0.375      0.375\n",
            " 0.375      0.375      0.375      0.375      0.37321429 0.37321429\n",
            " 0.37321429 0.37321429 0.37321429 0.37321429 0.37321429 0.37321429\n",
            " 0.37321429 0.37321429 0.37321429 0.37321429 0.37321429 0.37321429\n",
            " 0.37321429 0.37321429 0.37321429 0.37321429 0.37321429 0.37321429\n",
            " 0.37321429 0.37321429 0.37321429 0.37321429 0.37321429 0.37321429\n",
            " 0.37321429 0.37321429 0.37321429 0.37321429 0.37321429 0.37321429\n",
            " 0.37321429 0.37321429 0.37321429 0.37321429 0.37321429 0.37321429\n",
            " 0.37321429 0.37321429 0.37321429 0.37321429 0.37321429 0.37321429\n",
            " 0.37321429 0.37321429 0.37321429 0.37321429 0.37321429 0.37321429\n",
            " 0.37321429 0.37321429 0.37321429 0.37321429 0.37321429 0.37321429\n",
            " 0.37321429 0.37321429 0.37321429 0.37321429 0.37321429 0.37321429\n",
            " 0.37321429 0.37321429 0.37321429 0.37321429 0.37321429 0.37321429\n",
            " 0.37321429 0.37321429 0.37321429 0.37321429 0.37321429 0.37321429\n",
            " 0.37321429 0.37321429 0.37321429 0.37321429 0.37321429 0.37321429\n",
            " 0.37321429 0.37321429 0.37321429 0.37321429 0.37321429 0.37321429\n",
            " 0.37321429 0.37321429 0.37321429 0.37321429 0.37321429 0.37321429\n",
            " 0.37321429 0.37321429 0.37321429 0.37321429 0.37321429 0.37321429\n",
            " 0.37321429 0.37321429 0.37321429 0.37321429 0.37321429 0.37321429\n",
            " 0.37321429 0.37321429 0.37321429 0.37321429 0.37321429 0.37321429\n",
            " 0.37321429 0.37321429 0.37321429 0.37321429 0.37321429 0.37321429\n",
            " 0.37321429 0.37321429 0.37321429 0.37321429 0.37321429 0.37321429\n",
            " 0.37321429 0.37321429 0.37321429 0.37321429 0.37321429 0.37321429\n",
            " 0.37321429 0.37321429 0.37321429 0.37321429 0.37321429 0.37321429\n",
            " 0.37321429 0.37321429 0.37321429 0.37321429 0.37321429 0.37321429\n",
            " 0.37321429 0.37321429 0.37321429 0.37321429 0.37321429 0.37321429\n",
            " 0.37321429 0.37321429 0.37321429 0.37321429 0.37321429 0.37321429\n",
            " 0.37321429 0.37321429 0.37321429 0.37321429 0.37321429 0.37321429\n",
            " 0.37321429 0.37321429 0.37321429 0.37321429 0.37321429 0.37321429\n",
            " 0.37321429 0.37321429 0.37321429 0.37321429 0.37321429 0.37321429\n",
            " 0.37321429 0.37321429 0.37321429 0.37321429 0.37321429 0.37321429\n",
            " 0.37321429 0.37321429 0.37321429 0.37321429 0.37321429 0.37321429\n",
            " 0.37321429 0.37321429 0.37321429 0.37321429 0.37321429 0.37321429\n",
            " 0.37321429 0.37321429 0.37321429 0.37321429 0.37321429 0.37321429\n",
            " 0.37321429 0.37321429 0.37321429 0.37321429 0.37321429 0.37321429\n",
            " 0.37321429 0.37321429 0.37321429 0.37321429 0.37321429 0.37321429\n",
            " 0.37321429 0.37321429 0.37321429 0.37321429 0.37321429 0.37321429\n",
            " 0.37321429]\n",
            "\n",
            " test score [0.99585062 0.99585062 0.99585062 0.99585062 0.99170124 0.99170124\n",
            " 0.99170124 0.99585062 0.99585062 0.99585062 0.99585062 0.99585062\n",
            " 0.99585062 0.99170124 0.99585062 0.99170124 0.99585062 0.99585062\n",
            " 0.99585062 0.99585062 0.99585062 0.99585062 0.99585062 0.99585062\n",
            " 0.99585062 0.99585062 0.99585062 0.99585062 0.99170124 0.99170124\n",
            " 0.99170124 0.99170124 0.99170124 0.99585062 0.99170124 0.99170124\n",
            " 0.99170124 0.99170124 0.99170124 0.99170124 0.99170124 0.99170124\n",
            " 0.99170124 0.99170124 0.99170124 0.99170124 0.99170124 0.99170124\n",
            " 0.99170124 0.99170124 0.99170124 0.99170124 0.99170124 0.99170124\n",
            " 0.99170124 0.99170124 0.99170124 0.99170124 0.99170124 0.99170124\n",
            " 0.99170124 0.99170124 0.99170124 0.99170124 0.99170124 0.99170124\n",
            " 0.99170124 0.99170124 0.99170124 0.99170124 0.99170124 0.99170124\n",
            " 0.99170124 0.99170124 0.99170124 0.99170124 0.99170124 0.99170124\n",
            " 0.99170124 0.99170124 0.99170124 0.99170124 0.99170124 0.99170124\n",
            " 0.99170124 0.99170124 0.99170124 0.99170124 0.99170124 0.99170124\n",
            " 0.99170124 0.99170124 0.99170124 0.99170124 0.99170124 0.99170124\n",
            " 0.99170124 0.99170124 0.99170124 0.99170124 0.99170124 0.99170124\n",
            " 0.99170124 0.99170124 0.99170124 0.99170124 0.99170124 0.99170124\n",
            " 0.99170124 0.99170124 0.99170124 0.99170124 0.99170124 0.98755187\n",
            " 0.97925311 0.97925311 0.97925311 0.97925311 0.97510373 0.97095436\n",
            " 0.97095436 0.97095436 0.96680498 0.96680498 0.97095436 0.97095436\n",
            " 0.96680498 0.96680498 0.96680498 0.9626556  0.95850622 0.95435685\n",
            " 0.95435685 0.95435685 0.95435685 0.95435685 0.95435685 0.95020747\n",
            " 0.94190871 0.94190871 0.94190871 0.94190871 0.94190871 0.93775934\n",
            " 0.93775934 0.93360996 0.93360996 0.9253112  0.92116183 0.92116183\n",
            " 0.91286307 0.91286307 0.91286307 0.91286307 0.90456432 0.90456432\n",
            " 0.90456432 0.90456432 0.90456432 0.90456432 0.90456432 0.90456432\n",
            " 0.90456432 0.90041494 0.89211618 0.89211618 0.89211618 0.89211618\n",
            " 0.8879668  0.8879668  0.8879668  0.8879668  0.8879668  0.88381743\n",
            " 0.88381743 0.88381743 0.88381743 0.88381743 0.88381743 0.88381743\n",
            " 0.87966805 0.87551867 0.86721992 0.86721992 0.86721992 0.86307054\n",
            " 0.86307054 0.86307054 0.85892116 0.85477178 0.85892116 0.85477178\n",
            " 0.84647303 0.84232365 0.83817427 0.83817427 0.8340249  0.82572614\n",
            " 0.81327801 0.81327801 0.80912863 0.80082988 0.79253112 0.78008299\n",
            " 0.75103734 0.73858921 0.71784232 0.70539419 0.70539419 0.70124481\n",
            " 0.69294606 0.68879668 0.68049793 0.68049793 0.68049793 0.67219917\n",
            " 0.65975104 0.65975104 0.65560166 0.6473029  0.6473029  0.64315353\n",
            " 0.63900415 0.63485477 0.62655602 0.62655602 0.62240664 0.61825726\n",
            " 0.61410788 0.61410788 0.60995851 0.60995851 0.60580913 0.60165975\n",
            " 0.60165975 0.59751037 0.593361   0.593361   0.58921162 0.593361\n",
            " 0.58506224 0.57676349 0.57261411 0.56846473 0.56016598 0.56016598\n",
            " 0.5560166  0.55186722 0.55186722 0.54356846 0.53526971 0.52282158\n",
            " 0.52697095 0.52282158 0.50622407 0.50622407 0.50207469 0.49377593\n",
            " 0.48962656 0.48962656 0.47717842 0.47302905 0.47302905 0.47302905\n",
            " 0.46887967 0.46058091 0.45643154 0.45228216 0.4439834  0.4439834\n",
            " 0.43983402 0.42738589 0.42738589 0.41493776 0.41493776 0.41078838\n",
            " 0.41078838 0.41078838 0.406639   0.406639   0.406639   0.39834025\n",
            " 0.39419087 0.39004149 0.39004149 0.39004149 0.39004149 0.39004149\n",
            " 0.38589212 0.38589212 0.38589212 0.38589212 0.38589212 0.38174274\n",
            " 0.38174274 0.38174274 0.38174274 0.38174274 0.37759336 0.37759336\n",
            " 0.37759336 0.37759336 0.37759336 0.37759336 0.37759336 0.37759336\n",
            " 0.37759336 0.37759336 0.37759336 0.37759336 0.37759336 0.37759336\n",
            " 0.37759336 0.37759336 0.37759336 0.37759336 0.37759336 0.37759336\n",
            " 0.37759336 0.37759336 0.37759336 0.37759336 0.37759336 0.37759336\n",
            " 0.37759336 0.37759336 0.37759336 0.37759336 0.37759336 0.37759336\n",
            " 0.37759336 0.37759336 0.37759336 0.37759336 0.37759336 0.37759336\n",
            " 0.37759336 0.37759336 0.37759336 0.37759336 0.37759336 0.37759336\n",
            " 0.37759336 0.37759336 0.37759336 0.37759336 0.37759336 0.37759336\n",
            " 0.37759336 0.37759336 0.37759336 0.37759336 0.37759336 0.37759336\n",
            " 0.37759336 0.37759336 0.37759336 0.37759336 0.37759336 0.37759336\n",
            " 0.37759336 0.37759336 0.37759336 0.37759336 0.37759336 0.37759336\n",
            " 0.37759336 0.37759336 0.37759336 0.37759336 0.37759336 0.37759336\n",
            " 0.37759336 0.37759336 0.37759336 0.37759336 0.37759336 0.37759336\n",
            " 0.37759336 0.37759336 0.37759336 0.37759336 0.37759336 0.37759336\n",
            " 0.37759336 0.37759336 0.37759336 0.37759336 0.37759336 0.37759336\n",
            " 0.37759336 0.37759336 0.37759336 0.37759336 0.37759336 0.37759336\n",
            " 0.37759336 0.37759336 0.37759336 0.37759336 0.37759336 0.37759336\n",
            " 0.37759336 0.37759336 0.37759336 0.37759336 0.37759336 0.37759336\n",
            " 0.37759336 0.37759336 0.37759336 0.37759336 0.37759336 0.37759336\n",
            " 0.37759336 0.37759336 0.37759336 0.37759336 0.37759336 0.37759336\n",
            " 0.37759336 0.37759336 0.37759336 0.37759336 0.37759336 0.37759336\n",
            " 0.37759336 0.37759336 0.37759336 0.37759336 0.37759336 0.37759336\n",
            " 0.37759336 0.37759336 0.37759336 0.37759336 0.37759336 0.37759336\n",
            " 0.37759336 0.37759336 0.37759336 0.37759336 0.37759336 0.37759336\n",
            " 0.37759336 0.37759336 0.37759336 0.37759336 0.37759336 0.37759336\n",
            " 0.37759336 0.37759336 0.37759336 0.37759336 0.37759336 0.37759336\n",
            " 0.37759336 0.37759336 0.37759336 0.37759336 0.37759336 0.37759336\n",
            " 0.37759336 0.37759336 0.37759336 0.37759336 0.37759336 0.37759336\n",
            " 0.37759336 0.37759336 0.37759336 0.37759336 0.37759336 0.37759336\n",
            " 0.37759336 0.37759336 0.37759336 0.37759336 0.37759336 0.37759336\n",
            " 0.37759336 0.37759336 0.37759336 0.37759336 0.37759336 0.37759336\n",
            " 0.37759336 0.37759336 0.37759336 0.37759336 0.37759336 0.37759336\n",
            " 0.37759336 0.37759336 0.37759336 0.37759336 0.37759336 0.37759336\n",
            " 0.37759336 0.37759336 0.37759336 0.37759336 0.37759336 0.37759336\n",
            " 0.37759336 0.37759336 0.37759336 0.37759336 0.37759336 0.37759336\n",
            " 0.37759336 0.37759336 0.37759336 0.37759336 0.37759336 0.37759336\n",
            " 0.37759336 0.37759336 0.37759336 0.37759336 0.37759336 0.37759336\n",
            " 0.37759336 0.37759336 0.37759336 0.37759336 0.37759336 0.37759336\n",
            " 0.37759336 0.37759336 0.37759336 0.37759336 0.37759336 0.37759336\n",
            " 0.37759336 0.37759336 0.37759336 0.37759336 0.37759336 0.37759336\n",
            " 0.37759336 0.37759336 0.37759336 0.37759336 0.37759336 0.37759336\n",
            " 0.37759336 0.37759336 0.37759336 0.37759336 0.37759336 0.37759336\n",
            " 0.37759336 0.37759336 0.37759336 0.37759336 0.37759336 0.37759336\n",
            " 0.37759336]\n"
          ]
        },
        {
          "output_type": "display_data",
          "data": {
            "text/plain": [
              "<Figure size 432x288 with 1 Axes>"
            ],
            "image/png": "[encoded data removed]"
          },
          "metadata": {
            "needs_background": "light"
          }
        },
        {
          "output_type": "stream",
          "name": "stdout",
          "text": [
            "Accuracy: 99.1701244813278\n",
            "Feature Size: 10238\n"
          ]
        },
        {
          "output_type": "display_data",
          "data": {
            "text/plain": [
              "<Figure size 432x288 with 1 Axes>"
            ],
            "image/png": "[encoded data removed]"
          },
          "metadata": {
            "needs_background": "light"
          }
        }
      ],
      "source": [
        "k    = 5     # k-value in KNN\n",
        "N    = 10    # number of chromosomes\n",
        "T    = 10   # maximum number of generations\n",
        "CR   = 0.8\n",
        "MR   = 0.01\n",
        "opts = {'k':k, 'fold':fold, 'N':N, 'T':T, 'CR':CR, 'MR':MR}\n",
        "pso_fs_model(opts)"
      ]
    }
  ],
  "metadata": {
    "kernelspec": {
      "display_name": "Python 3.10.1 64-bit",
      "language": "python",
      "name": "python3"
    },
    "language_info": {
      "codemirror_mode": {
        "name": "ipython",
        "version": 3
      },
      "file_extension": ".py",
      "mimetype": "text/x-python",
      "name": "python",
      "nbconvert_exporter": "python",
      "pygments_lexer": "ipython3",
      "version": "3.10.1"
    },
    "vscode": {
      "interpreter": {
        "hash": "f183b597e807859c9c827808b23edaedf40a13212131d96edbd3b8b589ad218b"
      }
    },
    "colab": {
      "provenance": [],
      "include_colab_link": true
    }
  },
  "nbformat": 4,
  "nbformat_minor": 0
}